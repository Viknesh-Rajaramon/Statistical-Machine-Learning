{
 "cells": [
  {
   "cell_type": "markdown",
   "id": "0201eef8",
   "metadata": {},
   "source": [
    "# Linear regression [9 pts]\n",
    "\n",
    "In this homework, you will implement solution algorithms for linear regression.\n",
    "\n",
    "\n",
    "## Import libraries\n",
    "Let's begin by importing some libraries. "
   ]
  },
  {
   "cell_type": "code",
   "execution_count": 1,
   "id": "5e93db53",
   "metadata": {},
   "outputs": [
    {
     "name": "stdout",
     "output_type": "stream",
     "text": [
      "Automatically created module for IPython interactive environment\n"
     ]
    }
   ],
   "source": [
    "print(__doc__)\n",
    "import matplotlib.pyplot as plt\n",
    "import numpy as np\n",
    "from sklearn import datasets\n",
    "%matplotlib inline"
   ]
  },
  {
   "cell_type": "markdown",
   "id": "3b7f958f",
   "metadata": {},
   "source": [
    "## Load dataset\n",
    "\n",
    "Now, we are importing a dataset of diabetes. You can check the details on this dataset here: https://scikit-learn.org/stable/datasets/toy_dataset.html#diabetes-dataset. \n",
    "\n",
    "The dataset consists of 442 observations with 10 attributes ($X$) that may affect the progression of diabetes ($y$). Ten baseline variables, age, sex, body mass index, average blood pressure, and six blood serum measurements were obtained for each of $n$ = 442 diabetes patients, as well as the response of interest, a quantitative measure of disease progression one year after baseline."
   ]
  },
  {
   "cell_type": "code",
   "execution_count": 2,
   "id": "45b7be6c",
   "metadata": {},
   "outputs": [
    {
     "name": "stdout",
     "output_type": "stream",
     "text": [
      "The shape of the input features: (442, 10)\n",
      "The shape of the output varaible: (442,)\n"
     ]
    }
   ],
   "source": [
    "# Load the diabetes dataset\n",
    "diabetes_X, diabetes_y = datasets.load_diabetes(return_X_y=True)\n",
    "print('The shape of the input features:',diabetes_X.shape)\n",
    "print('The shape of the output varaible:',diabetes_y.shape)"
   ]
  },
  {
   "cell_type": "markdown",
   "id": "33d43652",
   "metadata": {},
   "source": [
    "We will choose just one attribute from the ten attributes as an input variable."
   ]
  },
  {
   "cell_type": "code",
   "execution_count": 3,
   "id": "333d01d6",
   "metadata": {},
   "outputs": [
    {
     "name": "stdout",
     "output_type": "stream",
     "text": [
      "(442, 1)\n"
     ]
    }
   ],
   "source": [
    "# Use only one feature\n",
    "diabetes_X_one = diabetes_X[:, np.newaxis, 2]\n",
    "print(diabetes_X_one.shape)"
   ]
  },
  {
   "cell_type": "markdown",
   "id": "2d5d51ee",
   "metadata": {},
   "source": [
    "## Dataset split\n",
    "\n",
    "Now, we split the dataset into two parts: training set and test set. \n",
    "\n",
    "- training set: 422 samples\n",
    "- test set: 20 samples "
   ]
  },
  {
   "cell_type": "code",
   "execution_count": 4,
   "id": "3b1cadcc",
   "metadata": {},
   "outputs": [
    {
     "name": "stdout",
     "output_type": "stream",
     "text": [
      "Training input variable shape: (422, 1)\n",
      "Test input variable shape: (20, 1)\n"
     ]
    }
   ],
   "source": [
    "# Split the data into training/testing sets\n",
    "diabetes_X_train = diabetes_X_one[:-20]\n",
    "diabetes_X_test = diabetes_X_one[-20:]\n",
    "\n",
    "# Split the targets into training/testing sets\n",
    "diabetes_y_train = diabetes_y[:-20]\n",
    "diabetes_y_test = diabetes_y[-20:]\n",
    "\n",
    "print('Training input variable shape:', diabetes_X_train.shape)\n",
    "print('Test input variable shape:', diabetes_X_test.shape)"
   ]
  },
  {
   "cell_type": "markdown",
   "id": "69db6e06",
   "metadata": {},
   "source": [
    "## Linear regression \n",
    "\n",
    "Assume that we have a hypothesis $$ h_{\\theta}(x) = \\theta_0 + \\theta_1 x. $$\n",
    "\n",
    "Your tasks: \n",
    "\n",
    "- [3pts] implement {your own version} of the method of least-squares, compute and report $\\theta_0$ and $\\theta_1$ that minimize the residual sum of squares, )\n",
    "$$ \\sum_{i=1}^{N} \\frac{1}{2}( y^{(i)} - h_{\\theta}(x^{(i)})^2$$\n",
    "\n",
    "[IMPORTANT] Do not just call the least square function from libraries, for example, \n",
    "scipy.optimize.least_squares from scipy. Doing so will result in 0 point. Using helping functions such as numpy.linalg.inv is okay. \n",
    "\n",
    "- [3pts] implement your own version of the gradient descent algorithm, compute and report $\\theta_0$ and $\\theta_1$ that minimize the mean squared error $$ \\sum_{i=1}^{N} \\frac{1}{N}( y^{(i)} - h_{\\theta}(x^{(i)})^2$$\n",
    "\n",
    "[NOTE] Notice that the loss function is mean-squared error. \n",
    "\n",
    "- [3pts] derive the analytical expression of the gradient if the loss is defined as \n",
    "$$ \\sum_{i=1}^{N} \\frac{1}{2}( y^{(i)} - h_{\\theta}(x^{(i)})^2 + \\frac{\\lambda}{2} \\| \\theta \\|_2^2, $$\n",
    "where $\\theta = [\\theta_0, \\theta_1]^{\\intercal}$\n",
    "\n",
    "To check whether your computation is correct, consider using an API such as Scikit learn linearregression."
   ]
  },
  {
   "cell_type": "code",
   "execution_count": 5,
   "id": "4784ff6a",
   "metadata": {},
   "outputs": [
    {
     "name": "stdout",
     "output_type": "stream",
     "text": [
      "METHOD OF LEAST SQUARES: Theta = [152.91886183 938.23786125]\n"
     ]
    }
   ],
   "source": [
    "def method_of_least_square(diabetes_X_train, diabetes_y_train):\n",
    "    X = np.c_[np.ones(diabetes_X_train.shape), np.array(diabetes_X_train)]\n",
    "    X_T = np.transpose(X)\n",
    "    y = np.array(diabetes_y_train)\n",
    "\n",
    "    theta = np.dot(np.dot(np.linalg.inv(np.dot(X_T, X)), X_T), y)\n",
    "    return theta\n",
    "\n",
    "least_squares_theta_ = method_of_least_square(diabetes_X_train, diabetes_y_train)\n",
    "print(\"METHOD OF LEAST SQUARES: Theta =\", least_squares_theta_)"
   ]
  },
  {
   "cell_type": "code",
   "execution_count": 6,
   "id": "7c387b00",
   "metadata": {},
   "outputs": [
    {
     "name": "stdout",
     "output_type": "stream",
     "text": [
      "Starting Theta = [13, 10]\n",
      "Iteration = 0 \tMSE = 18512.639213024086 \tTheta = [41.07156603825645, 10.433702612667766]\n",
      "Iteration = 1000 \tMSE = 4742.727255798539 \tTheta = [153.19839938392184, 348.46935131796965]\n",
      "Iteration = 2000 \tMSE = 4273.340848444981 \tTheta = [153.0965630198055, 563.3237744696855]\n",
      "Iteration = 3000 \tMSE = 4083.6567756610807 \tTheta = [153.0318259461728, 699.9060919217072]\n",
      "Iteration = 4000 \tMSE = 4007.0034109615185 \tTheta = [152.9906727811035, 786.7310646959106]\n",
      "Iteration = 5000 \tMSE = 3976.02696558301 \tTheta = [152.96451183652908, 841.9254415221018]\n",
      "Iteration = 6000 \tMSE = 3963.5090523505123 \tTheta = [152.94788140191062, 877.0123426277763]\n",
      "Iteration = 7000 \tMSE = 3958.450429587909 \tTheta = [152.9373094841111, 899.3169812520372]\n",
      "Iteration = 8000 \tMSE = 3956.406185968464 \tTheta = [152.93058894742498, 913.495973653232]\n",
      "Iteration = 9000 \tMSE = 3955.580085234773 \tTheta = [152.92631672225198, 922.5095169300332]\n",
      "Iteration = 10000 \tMSE = 3955.2462490834882 \tTheta = [152.92360088142246, 928.2393995693608]\n",
      "Iteration = 11000 \tMSE = 3955.111342320476 \tTheta = [152.92187442948867, 931.8818689126826]\n",
      "Iteration = 12000 \tMSE = 3955.0568250531373 \tTheta = [152.92077692913182, 934.1973758352812]\n",
      "Iteration = 13000 \tMSE = 3955.0347940417078 \tTheta = [152.92007925142082, 935.6693366956888]\n",
      "Iteration = 14000 \tMSE = 3955.0258910741095 \tTheta = [152.91963573977597, 936.605057834514]\n",
      "Iteration = 15000 \tMSE = 3955.0222932895836 \tTheta = [152.91935380074315, 937.1998929780245]\n",
      "Iteration = 16000 \tMSE = 3955.020839386337 \tTheta = [152.91917457293894, 937.5780279086964]\n",
      "Iteration = 17000 \tMSE = 3955.0202518484616 \tTheta = [152.91906063835717, 937.8184071589012]\n",
      "Iteration = 18000 \tMSE = 3955.020014418123 \tTheta = [152.91898821048252, 937.9712155329569]\n",
      "Iteration = 19000 \tMSE = 3955.019918469977 \tTheta = [152.91894216829817, 938.0683553616299]\n",
      "Iteration = 20000 \tMSE = 3955.0198796963077 \tTheta = [152.9189128994186, 938.1301068616541]\n",
      "Iteration = 21000 \tMSE = 3955.0198640274466 \tTheta = [152.9188942932789, 938.1693621064676]\n",
      "Iteration = 22000 \tMSE = 3955.0198576954954 \tTheta = [152.9188824654113, 938.1943165487827]\n",
      "Iteration = 23000 \tMSE = 3955.019855136687 \tTheta = [152.91887494647105, 938.2101800135052]\n",
      "Iteration = 24000 \tMSE = 3955.0198541026416 \tTheta = [152.9188701667031, 938.2202643708239]\n",
      "Iteration = 25000 \tMSE = 3955.0198536847747 \tTheta = [152.91886712821886, 938.2266749667638]\n",
      "Iteration = 26000 \tMSE = 3955.019853515912 \tTheta = [152.91886519666346, 938.2307501635253]\n",
      "Iteration = 27000 \tMSE = 3955.019853447671 \tTheta = [152.91886396877945, 938.2333407539804]\n",
      "Iteration = 28000 \tMSE = 3955.0198534200936 \tTheta = [152.91886318821722, 938.2349875846248]\n",
      "Iteration = 28920 \tMSE = 3955.0198534095207 \tTheta = [152.91886272437944, 938.2359661898298]\n",
      "Finished Gradient Descent\n",
      "GRADIENT DESCENT: Theta = [152.91886272437944, 938.2359661898298]\n"
     ]
    },
    {
     "data": {
      "image/png": "[encoded data removed]",
      "text/plain": [
       "<Figure size 640x480 with 1 Axes>"
      ]
     },
     "metadata": {},
     "output_type": "display_data"
    }
   ],
   "source": [
    "def mean_squared_error(x, y, theta):\n",
    "    N = len(x)\n",
    "    \n",
    "    mse = 0\n",
    "    for i in range(N):\n",
    "        mse = mse + (y[i] - (theta[0][0] + theta[1][0] * x[i]))**2\n",
    "    mse = 1/N * mse\n",
    "    \n",
    "    return mse[0]\n",
    "\n",
    "def get_printable_theta(theta):\n",
    "    return [theta[0][0], theta[1][0]]\n",
    "\n",
    "def gradient_descent(diabetes_X_train, diabetes_y_train, step_size = 0.1, iterations = 30000):\n",
    "    import sys\n",
    "    np.random.seed()\n",
    "    x_ = np.array(diabetes_X_train)\n",
    "    x = np.c_[np.ones(diabetes_X_train.shape), np.array(diabetes_X_train)]\n",
    "    y = np.array(diabetes_y_train).reshape(x.shape[0], 1)\n",
    "    N = len(x)\n",
    "\n",
    "    mse_array = []\n",
    "\n",
    "    cost = sys.float_info.max\n",
    "    theta = np.random.randint(100, size=2).reshape(2, 1)\n",
    "\n",
    "    print(\"Starting Theta =\", get_printable_theta(theta))\n",
    "\n",
    "    for k in range(iterations):\n",
    "        temp = -2 * np.dot(np.transpose(x), y - np.dot(x, theta))\n",
    "        theta_k = theta\n",
    "        theta_k_1 = np.subtract(theta_k, step_size * 1/N * temp)\n",
    "        mse = mean_squared_error(x_, y, theta_k_1)\n",
    "\n",
    "        mse_array.append(mse)\n",
    "\n",
    "        if mse >= cost:\n",
    "            theta = theta_k\n",
    "            break\n",
    "        else:\n",
    "            theta = theta_k_1\n",
    "            cost = mse\n",
    "        \n",
    "        if k % 1000 == 0:\n",
    "            print(\"Iteration =\", k, \"\\tMSE =\", cost, \"\\tTheta =\", get_printable_theta(theta))\n",
    "    \n",
    "    print(\"Iteration =\", k, \"\\tMSE =\", cost, \"\\tTheta =\", get_printable_theta(theta))\n",
    "    print(\"Finished Gradient Descent\")\n",
    "    theta = get_printable_theta(theta)\n",
    "    return theta, mse_array\n",
    "\n",
    "\n",
    "gradient_descent_theta_, mse_array = gradient_descent(diabetes_X_train, diabetes_y_train)\n",
    "print(\"GRADIENT DESCENT: Theta =\", gradient_descent_theta_)\n",
    "\n",
    "plt.plot(np.array([i for i in range(len(mse_array))]), np.array(mse_array))\n",
    "plt.xlabel(\"iterations\")\n",
    "plt.ylabel(\"Mean Squared Error\")\n",
    "plt.title(\"Gradient Descent\")\n",
    "plt.show()"
   ]
  },
  {
   "cell_type": "code",
   "execution_count": 7,
   "id": "b92e5ce9",
   "metadata": {},
   "outputs": [
    {
     "name": "stdout",
     "output_type": "stream",
     "text": [
      "SKLEARN LINEAR REGRESSION: Theta = [152.91886183 938.23786125]\n"
     ]
    }
   ],
   "source": [
    "def sklearn_linear_regression(x, y):\n",
    "    from sklearn.linear_model import LinearRegression\n",
    "\n",
    "    linear_regression = LinearRegression()\n",
    "    linear_regression.fit(x, y)\n",
    "\n",
    "    theta = np.concatenate((np.array([linear_regression.intercept_]), linear_regression.coef_), axis = 0)\n",
    "\n",
    "    return theta\n",
    "\n",
    "sklearn_linear_regression_theta_ = sklearn_linear_regression(diabetes_X_train, diabetes_y_train)\n",
    "print(\"SKLEARN LINEAR REGRESSION: Theta =\", sklearn_linear_regression_theta_)"
   ]
  },
  {
   "cell_type": "code",
   "execution_count": 8,
   "id": "ee37da49",
   "metadata": {},
   "outputs": [
    {
     "name": "stdout",
     "output_type": "stream",
     "text": [
      "***** Sklearn Linear Regression *****\n",
      "Theta = [152.91886183 938.23786125]\n",
      "\n",
      "***** Method of Least Squares *****\n",
      "Theta = [152.91886183 938.23786125]\n",
      "\n",
      "********* Gradient Descent *********\n",
      "Theta  = [152.91886272437944, 938.2359661898298]\n",
      "\n"
     ]
    }
   ],
   "source": [
    "print(\"***** Sklearn Linear Regression *****\")\n",
    "print(\"Theta =\", sklearn_linear_regression_theta_, end=\"\\n\\n\")\n",
    "\n",
    "print(\"***** Method of Least Squares *****\")\n",
    "print(\"Theta =\", least_squares_theta_, end=\"\\n\\n\")\n",
    "\n",
    "print(\"********* Gradient Descent *********\")\n",
    "print(\"Theta  =\", gradient_descent_theta_, end=\"\\n\\n\")"
   ]
  },
  {
   "cell_type": "markdown",
   "id": "0045fa30",
   "metadata": {},
   "source": [
    "### Analytical expression derivation\n",
    "\n",
    "\n",
    "$$ L = \\sum_{i=1}^{N} \\frac{1}{2} (y^{(i)} - h_\\theta(x^{(i)}))^2 + \\frac{\\lambda}{2} \\| \\theta \\|_2^2 = \\frac{1}{2} \\sum_{i=1}^{N} (y^{(i)} - h_\\theta(x^{(i)}))^2 + \\frac{\\lambda}{2}  (\\theta_0^2 + \\theta_1^2) $$\n",
    "\n",
    "</br></br>\n",
    "\n",
    "$$ \\nabla_\\theta L = \\nabla_\\theta((\\frac{1}{2} \\sum_{i=1}^{N} (y^{(i)} - h_\\theta(x^{(i)}))^2) + \\frac{\\lambda}{2} (\\theta_0^2 + \\theta_1^2)) = \\frac{1}{2} (\\nabla_\\theta (\\sum_{i=1}^{N} (y^{(i)} - h_\\theta(x^{(i)}))^2)) + \\nabla_\\theta (\\frac{\\lambda}{2} (\\theta_0^2 + \\theta_1^2)) $$\n",
    "$$ = \\frac{1}{2} \\sum_{i=1}^{N} \\nabla_\\theta (y^{(i)} - h_\\theta(x^{(i)}))^2 + \\frac{\\lambda}{2} \\nabla_\\theta (\\theta_0^2 + \\theta_1^2) $$\n",
    "\n",
    "</br></br>\n",
    "\n",
    "$$ \\nabla_\\theta (y^{(i)} - h_\\theta(x^{(i)}))^2 = \\begin{bmatrix} \\frac{\\partial (y^{(i)} - \\theta_0 - \\theta_1x^{(i)})^2}{\\partial \\theta_0} \\\\ \\frac{\\partial (y^{(i)} - \\theta_0 - \\theta_1x^{(i)})^2}{\\partial \\theta_1} \\end{bmatrix} = \\begin{bmatrix} -2 (y^{(i)} - \\theta_0 - \\theta_1x^{(i)}) \\\\ -2 (y^{(i)} - \\theta_0 - \\theta_1x^{(i)}) x^{(i)} \\end{bmatrix} \\\\ = -2 \\begin{bmatrix} y^{(i)} - \\theta_0 - \\theta_1x^{(i)} \\\\ (y^{(i)} - \\theta_0 - \\theta_1x^{(i)}) x^{(i)} \\end{bmatrix} $$\n",
    "\n",
    "</br></br>\n",
    "\n",
    "$$ \\nabla_\\theta (\\theta_0^2 + \\theta_1^2) = \\begin{bmatrix} \\frac{\\partial (\\theta_0^2 + \\theta_1^2)}{\\partial \\theta_0} \\\\ \\frac{\\partial (\\theta_0^2 + \\theta_1^2)}{\\partial \\theta_1} \\end{bmatrix} = \\begin{bmatrix} 2 \\theta_0 \\\\ 2 \\theta_1 \\end{bmatrix} = 2 \\begin{bmatrix} \\theta_0 \\\\ \\theta_1 \\end{bmatrix} = 2 \\theta $$\n",
    "\n",
    "</br></br>\n",
    "\n",
    "$$ \\nabla_\\theta L = \\frac{1}{2} \\sum_{i=1}^{N} \\nabla_\\theta (y^{(i)} - h_\\theta(x^{(i)}))^2 + \\frac{\\lambda}{2} \\nabla_\\theta (\\theta_0^2 + \\theta_1^2) = \\frac{1}{2} \\sum_{i=1}^{N} (-2 \\begin{bmatrix} y^{(i)} - \\theta_0 - \\theta_1x^{(i)} \\\\ (y^{(i)} - \\theta_0 - \\theta_1x^{(i)}) x^{(i)} \\end{bmatrix}) + \\frac{\\lambda}{2} (2 \\theta) \\\\ = - \\sum_{i=1}^{N} \\begin{bmatrix} y^{(i)} - \\theta_0 - \\theta_1x^{(i)} \\\\ (y^{(i)} - \\theta_0 - \\theta_1x^{(i)}) x^{(i)} \\end{bmatrix} + \\lambda \\theta $$"
   ]
  }
 ],
 "metadata": {
  "kernelspec": {
   "display_name": "Python 3 (ipykernel)",
   "language": "python",
   "name": "python3"
  },
  "language_info": {
   "codemirror_mode": {
    "name": "ipython",
    "version": 3
   },
   "file_extension": ".py",
   "mimetype": "text/x-python",
   "name": "python",
   "nbconvert_exporter": "python",
   "pygments_lexer": "ipython3",
   "version": "3.11.1"
  }
 },
 "nbformat": 4,
 "nbformat_minor": 5
}
